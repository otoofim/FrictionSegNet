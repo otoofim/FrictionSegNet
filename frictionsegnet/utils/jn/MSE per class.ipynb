{
 "cells": [
  {
   "cell_type": "code",
   "execution_count": 1,
   "id": "f126a900",
   "metadata": {},
   "outputs": [],
   "source": [
    "import scipy.io\n",
    "import scipy.stats\n",
    "import matplotlib.pyplot as plt\n",
    "import re\n",
    "import os\n",
    "from IPython.display import Image \n",
    "import cv2\n",
    "from tempfile import TemporaryFile\n",
    "from scipy import stats\n",
    "from torchvision import transforms\n",
    "import pandas as pd\n",
    "import shutil\n",
    "import datetime\n",
    "import glob\n",
    "import torch.nn.functional as F\n",
    "from scipy import integrate\n",
    "import torch\n",
    "import torch.nn as nn\n",
    "from torch.autograd import Variable\n",
    "import numpy as np\n",
    "import torchvision\n",
    "import torchvision.transforms as T\n",
    "from torch.utils.data import DataLoader\n",
    "from PIL import ImageFile, Image\n",
    "import sys\n",
    "sys.path.insert(1, '../architecture')\n",
    "sys.path.insert(2, '../dataLoaders')\n",
    "from ProUNet import *\n",
    "import torchvision.models as models\n",
    "from MapillaryDataLoader import *\n",
    "from VolvoDataLoader import *\n",
    "from MapillaryIntendedObjs import *\n",
    "from tqdm import tqdm\n",
    "from torcheval.metrics import R2Score\n",
    "from torchsummary import summary\n",
    "import torcheval\n",
    "from torchmetrics.classification import MulticlassCalibrationError\n",
    "%matplotlib inline"
   ]
  },
  {
   "cell_type": "code",
   "execution_count": 2,
   "id": "45db7b74",
   "metadata": {},
   "outputs": [],
   "source": [
    "class MyMSE(torch.nn.Module):\n",
    "    def __init__(self):\n",
    "        super(MyMSE, self).__init__()\n",
    "\n",
    "        \n",
    "    def forward(self, output, target):\n",
    "        \n",
    "        mask = target != 0\n",
    "        loss = target-output\n",
    "        loss *= loss\n",
    "        loss = loss*mask\n",
    "        loss_mean = loss.sum()/(mask.sum()+1e-15)\n",
    "\n",
    "        return loss_mean  "
   ]
  },
  {
   "cell_type": "code",
   "execution_count": 3,
   "id": "3ce8766b",
   "metadata": {},
   "outputs": [],
   "source": [
    "transform_in = transforms.Compose([\n",
    "    transforms.ToTensor(),\n",
    "    transforms.Normalize([0.4191, 0.4586, 0.4700], [0.2553, 0.2675, 0.2945]),\n",
    "    transforms.Resize((256,256))\n",
    "])\n",
    "transform_ou = transforms.Compose([\n",
    "    transforms.ToTensor(),\n",
    "    transforms.Resize((256,256))\n",
    "])"
   ]
  },
  {
   "cell_type": "code",
   "execution_count": 4,
   "id": "ac3524f5",
   "metadata": {},
   "outputs": [],
   "source": [
    "args = {\n",
    "    \"mode\":\"val\",\n",
    "    \"input_img_dim\":(256,256),\n",
    "    \"mapillaryRootPath\":'../../../datasets/augmented_mapillary',\n",
    "    \"cityscapesRootPath\":'../../../datasets/augmented_cityscapes',\n",
    "    \"RSCDRootPath\":'../../../datasets/RSCD',\n",
    "    \"volvoRootPath\":\"../../../datasets/augmented_volvo\",\n",
    "    \"reducedCategories\":True\n",
    "}\n",
    "\n",
    "dataloader = volvoDataLoader(**args)\n",
    "val_loader = DataLoader(dataset = dataloader, batch_size = 32, shuffle = True, drop_last = True)"
   ]
  },
  {
   "cell_type": "code",
   "execution_count": 5,
   "id": "a86760ad",
   "metadata": {},
   "outputs": [
    {
     "name": "stderr",
     "output_type": "stream",
     "text": [
      "/home/lunet/wsmo6/.conda/envs/3.8/lib/python3.8/site-packages/torch/nn/_reduction.py:42: UserWarning: size_average and reduce args will be deprecated, please use reduction='none' instead.\n",
      "  warnings.warn(warning.format(ret))\n"
     ]
    },
    {
     "data": {
      "text/plain": [
       "<All keys matched successfully>"
      ]
     },
     "execution_count": 5,
     "metadata": {},
     "output_type": "execute_result"
    }
   ],
   "source": [
    "device = torch.device('cuda:0')\n",
    "model = ProUNet(gecoConfig = {\"enable\":False}, device = device, num_classes = dataloader.get_num_classes(), LatentVarSize = 6, beta = 3, training = True, num_samples = 16).to(device)\n",
    "check = torch.load(\"../checkpoints/HVAEFri_NewLossTest2/best.pth\", map_location=device)\n",
    "model.load_state_dict(check['model_state_dict'])"
   ]
  },
  {
   "cell_type": "code",
   "execution_count": 6,
   "id": "b23aff9a",
   "metadata": {},
   "outputs": [],
   "source": [
    "mse = MyMSE()"
   ]
  },
  {
   "cell_type": "code",
   "execution_count": 7,
   "id": "b5633851",
   "metadata": {
    "scrolled": true
   },
   "outputs": [
    {
     "name": "stdout",
     "output_type": "stream",
     "text": [
      "0\n",
      "1\n",
      "2\n",
      "3\n",
      "4\n",
      "5\n",
      "6\n",
      "7\n",
      "8\n",
      "9\n",
      "10\n",
      "11\n",
      "12\n",
      "13\n",
      "14\n",
      "15\n",
      "16\n",
      "17\n",
      "18\n",
      "19\n",
      "20\n",
      "21\n",
      "22\n",
      "23\n",
      "24\n",
      "25\n",
      "26\n",
      "27\n",
      "28\n",
      "29\n",
      "30\n",
      "31\n",
      "32\n",
      "33\n"
     ]
    }
   ],
   "source": [
    "loss_fri = {\n",
    "\"void\":0,\n",
    "\"asphalt\":0.,\n",
    "\"sky\":0,\n",
    "\"snow\":0.,\n",
    "\"ice\":0.,\n",
    "\"vegetation\":0,\n",
    "\"gravel\":0.,\n",
    "\"wetAsphalt\":0.,\n",
    "}\n",
    "r2 = 0\n",
    "loss = 0\n",
    "\n",
    "for i,batch in enumerate(val_loader):\n",
    "    \n",
    "    batchImg = batch['image'].to(device)\n",
    "    FriLabel = batch['FriLabel'].to(device)\n",
    "\n",
    "    _, _, frics = model.inference(batchImg)\n",
    "    fric = torch.mean(frics, 0)\n",
    "    loss += mse(output = fric, target = FriLabel).item()\n",
    "            \n",
    "    for value,className in enumerate(friClass):\n",
    "        lossCat = 0\n",
    "        FriLabelCat = torch.where(FriLabel == friClass[className], friClass[className], 0)\n",
    "        loss_fri[className] += mse(output = fric, target = FriLabelCat).item()\n",
    "\n",
    "    print(i)"
   ]
  },
  {
   "cell_type": "code",
   "execution_count": 8,
   "id": "8a9cbe80",
   "metadata": {},
   "outputs": [
    {
     "name": "stdout",
     "output_type": "stream",
     "text": [
      "**************RMSE *********************** MSE\n"
     ]
    },
    {
     "data": {
      "text/plain": [
       "{'asphalt': (0.06961730705596539, 0.004846569441724569),\n",
       " 'snow': (0.06590277003396235, 0.004343175098149325),\n",
       " 'ice': (0.11778007551670082, 0.013872146188719747),\n",
       " 'gravel': (0.0256055169930105, 0.0006556425004793495),\n",
       " 'wetAsphalt': (0.03848842597851225, 0.0014813589343034169)}"
      ]
     },
     "execution_count": 8,
     "metadata": {},
     "output_type": "execute_result"
    }
   ],
   "source": [
    "RMSE = {i[0]:(np.sqrt(i[1]/len(val_loader)), i[1]/len(val_loader)) for i in loss_fri.items() if i[0] not in [\"sky\", \"vegetation\", \"void\"]}\n",
    "print(\"**************RMSE *********************** MSE\")\n",
    "RMSE"
   ]
  },
  {
   "cell_type": "code",
   "execution_count": 9,
   "id": "21ed64a1",
   "metadata": {
    "scrolled": true
   },
   "outputs": [
    {
     "name": "stdout",
     "output_type": "stream",
     "text": [
      "Mean friction MSE over only surface textures:0.003996751171892837\n"
     ]
    }
   ],
   "source": [
    "mMSE_filter = np.mean([errors[1] for name, errors in RMSE.items() if name not in [\"sky\", \"vegetation\", \"void\"]])\n",
    "print(\"Mean friction MSE over only surface textures:{}\".format(loss/len(val_loader)))"
   ]
  },
  {
   "cell_type": "code",
   "execution_count": 10,
   "id": "e9fa7b80",
   "metadata": {},
   "outputs": [
    {
     "name": "stdout",
     "output_type": "stream",
     "text": [
      "Mean friction RMSE over only surface textures:0.06321986374465574\n"
     ]
    }
   ],
   "source": [
    "mRMSE_filter = np.mean([errors[0] for name, errors in RMSE.items() if name not in [\"sky\", \"vegetation\", \"void\"]])\n",
    "print(\"Mean friction RMSE over only surface textures:{}\".format(np.sqrt(loss/len(val_loader))))"
   ]
  },
  {
   "cell_type": "markdown",
   "id": "ccd11811",
   "metadata": {},
   "source": [
    "# Results"
   ]
  },
  {
   "cell_type": "markdown",
   "id": "b9a88126",
   "metadata": {},
   "source": [
    "### Segfri2/best.pth\n",
    "\n",
    "1. asphalt: RMSE : 0.171, MSE : 0.029\n",
    "2. snow: RMSE : 0.082, MSE : 0.007\n",
    "3. ice: RMSE : 0.097, MSE : 0.009\n",
    "4. gravel: RMSE : 0.146, MSE : 0.021\n",
    "5. wetAsphalt: RMSE : 0.090, MSE : 0.008\n",
    "\n",
    "- Mean friction MSE over only surface textures:0.0151\n",
    "- Mean friction RMSE over only surface textures:0.123"
   ]
  },
  {
   "cell_type": "markdown",
   "id": "04943e49",
   "metadata": {},
   "source": [
    "### Segfri2/iterative.pth\n",
    "\n",
    "1. asphalt: RMSE : 0.172, MSE : 0.029\n",
    "2. snow: RMSE : 0.078, MSE : 0.006\n",
    "3. ice: RMSE: 0.108, MSE: 0.0117\n",
    "4. gravel: RMSE: 0.148, MSE : 0.021,\n",
    "5. wetAsphalt: RMSE: 0.09, MSE: 0.009\n",
    "            \n",
    "- Mean friction MSE over only surface textures:0.014\n",
    "- Mean friction RMSE over only surface textures:0.12\n"
   ]
  },
  {
   "cell_type": "markdown",
   "id": "3fe42222",
   "metadata": {},
   "source": [
    "### RSCD+volvo/best.pth\n",
    "\n",
    "1. asphalt: RMSE : 0.191, MSE : 0.0367\n",
    "2. snow: RMSE : 0.1025, MSE : 0.0105\n",
    "3. ice: RMSE : 0.126, MSE : 0.016\n",
    "4. gravel: RMSE : 0.17, MSE : 0.029\n",
    "5. wetAsphalt: RMSE : 0.09, MSE : 0.008\n",
    "            \n",
    "- Mean friction MSE over only surface textures:0.0196\n",
    "- Mean friction RMSE over only surface textures:0.14\n",
    "        "
   ]
  },
  {
   "cell_type": "markdown",
   "id": "7215fa7c",
   "metadata": {},
   "source": [
    "### RSCD+volvo/iterative.pth\n",
    "\n",
    "1. asphalt: RMSE : 0.188, MSE : 0.035\n",
    "2. snow: RMSE : 0.1, MSE : 0.01\n",
    "3. ice: RMSE : 0.119, MSE : 0.014\n",
    "4. gravel: RMSE : 0.166, MSE : 0.027\n",
    "5. wetAsphalt: RMSE : 0.087, MSE : 0.007\n",
    "\n",
    "- Mean friction MSE over only surface textures:0.019\n",
    "- Mean friction RMSE over only surface textures:0.138"
   ]
  },
  {
   "cell_type": "markdown",
   "id": "737e78ee",
   "metadata": {},
   "source": [
    "### NewLossTest2/best.pth\n",
    "\n",
    "1. asphalt: RMSE : 0.0899, MSE : 0.008\n",
    "2. snow: RMSE : 0.075, MSE : 0.006\n",
    "3. ice: RMSE : 0.121, MSE : 0.015\n",
    "4. gravel: RMSE : 0.042, 0.002\n",
    "5. wetAsphalt: RMSE : 0.068, MSE : 0.005\n",
    "\n",
    "- Mean friction MSE over only surface textures:0.006\n",
    "- Mean friction RMSE over only surface textures:0.079"
   ]
  },
  {
   "cell_type": "markdown",
   "id": "fde17fb9",
   "metadata": {},
   "source": [
    "### NewLossTest2/iterative.pt\n",
    "\n",
    "1. asphalt: RMSE : 0.141, MSE : 0.019\n",
    "2. snow: RMSE : 0.088, MSE : 0.008\n",
    "3. ice: RMSE : 0.112, MSE : 0.012\n",
    "4. gravel: RMSE : 0.067, MSE : 0.004\n",
    "5. wetAsphalt: RMSE : 0.084, MSE : 0.007\n",
    "            \n",
    "- Mean friction MSE over only surface textures:0.0108\n",
    "- Mean friction RMSE over only surface textures:0.104"
   ]
  },
  {
   "cell_type": "code",
   "execution_count": null,
   "id": "5ab5a464",
   "metadata": {},
   "outputs": [],
   "source": []
  },
  {
   "cell_type": "code",
   "execution_count": null,
   "id": "3b5e6dd6",
   "metadata": {},
   "outputs": [],
   "source": []
  },
  {
   "cell_type": "code",
   "execution_count": null,
   "id": "500eb656",
   "metadata": {},
   "outputs": [],
   "source": []
  }
 ],
 "metadata": {
  "kernelspec": {
   "display_name": "3.8",
   "language": "python",
   "name": "3.8"
  },
  "language_info": {
   "codemirror_mode": {
    "name": "ipython",
    "version": 3
   },
   "file_extension": ".py",
   "mimetype": "text/x-python",
   "name": "python",
   "nbconvert_exporter": "python",
   "pygments_lexer": "ipython3",
   "version": "3.8.16"
  }
 },
 "nbformat": 4,
 "nbformat_minor": 5
}
